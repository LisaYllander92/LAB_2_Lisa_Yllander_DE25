{
 "cells": [
  {
   "cell_type": "markdown",
   "id": "1f4eacb1",
   "metadata": {},
   "source": [
    "## Manual testing class Circle"
   ]
  },
  {
   "cell_type": "code",
   "execution_count": null,
   "id": "4d579f6d",
   "metadata": {},
   "outputs": [
    {
     "data": {
      "text/plain": [
       "<bound method Circle.is_unit_circle of Circle: x: -1, y: 8 and radius: 6>"
      ]
     },
     "execution_count": 16,
     "metadata": {},
     "output_type": "execute_result"
    }
   ],
   "source": [
    "from circle import Circle\n",
    "\n",
    "c1 = Circle(5,-5,5)\n",
    "c1\n",
    "\n",
    "c2 = Circle(-1, 8, 6)\n",
    "c2.area\n",
    "\n",
    "c2.x\n",
    "c2.y"
   ]
  },
  {
   "cell_type": "code",
   "execution_count": null,
   "id": "e6a77e84",
   "metadata": {},
   "outputs": [
    {
     "name": "stdout",
     "output_type": "stream",
     "text": [
      "False\n"
     ]
    }
   ],
   "source": [
    "c3 = Circle(x=4, y=-2, radius=5)\n",
    "c3\n",
    "c3.area\n",
    "\n",
    "print(c3.is_unit_circle())\n"
   ]
  },
  {
   "cell_type": "code",
   "execution_count": 30,
   "id": "a5e40677",
   "metadata": {},
   "outputs": [
    {
     "name": "stdout",
     "output_type": "stream",
     "text": [
      "True\n",
      "The circle at (0, 0) with radius: 1 \n",
      "has the area of:3.14\n"
     ]
    },
    {
     "ename": "TypeError",
     "evalue": "__str__ returned non-string (type NoneType)",
     "output_type": "error",
     "traceback": [
      "\u001b[31m---------------------------------------------------------------------------\u001b[39m",
      "\u001b[31mTypeError\u001b[39m                                 Traceback (most recent call last)",
      "\u001b[36mCell\u001b[39m\u001b[36m \u001b[39m\u001b[32mIn[30]\u001b[39m\u001b[32m, line 4\u001b[39m\n\u001b[32m      1\u001b[39m c4 = Circle(\u001b[32m0\u001b[39m,\u001b[32m0\u001b[39m,\u001b[32m1\u001b[39m)\n\u001b[32m      2\u001b[39m \u001b[38;5;28mprint\u001b[39m(c4.is_unit_circle())\n\u001b[32m----> \u001b[39m\u001b[32m4\u001b[39m \u001b[38;5;28;43mprint\u001b[39;49m\u001b[43m(\u001b[49m\u001b[43mc4\u001b[49m\u001b[43m)\u001b[49m\n",
      "\u001b[31mTypeError\u001b[39m: __str__ returned non-string (type NoneType)"
     ]
    }
   ],
   "source": [
    "c4 = Circle(0,0,1)\n",
    "print(c4.is_unit_circle())\n",
    "\n",
    "print(c4)"
   ]
  },
  {
   "cell_type": "markdown",
   "id": "e3b56895",
   "metadata": {},
   "source": [
    "## Maual testing class Rectangle\n",
    "Testing only comparing area.."
   ]
  },
  {
   "cell_type": "code",
   "execution_count": 59,
   "id": "b0082e12",
   "metadata": {},
   "outputs": [
    {
     "data": {
      "text/plain": [
       "(16, 16)"
      ]
     },
     "execution_count": 59,
     "metadata": {},
     "output_type": "execute_result"
    }
   ],
   "source": [
    "from rectangle import Rectangle\n",
    "\n",
    "r1 = Rectangle(x=4, y=-6, length=4, width=4)\n",
    "\n",
    "r1.area\n",
    "\n",
    "r2 = Rectangle(2,2,8,2)\n",
    "\n",
    "r2.area\n",
    "\n",
    "r1.area, r2.area"
   ]
  },
  {
   "cell_type": "markdown",
   "id": "7681d9a1",
   "metadata": {},
   "source": [
    "Testing < and > based on area"
   ]
  },
  {
   "cell_type": "code",
   "execution_count": 60,
   "id": "3cef42e3",
   "metadata": {},
   "outputs": [
    {
     "name": "stdout",
     "output_type": "stream",
     "text": [
      "r3 area: 20\n",
      "r4 area: 25\n",
      "r3 < r4: True\n",
      "r3 >= r4: False\n"
     ]
    }
   ],
   "source": [
    "# area = 20\n",
    "r3 = Rectangle(x=0, y=0, length=2, width=10)\n",
    "# area = 25\n",
    "r4 = Rectangle(0,0,5,5)\n",
    "\n",
    "print(f\"r3 area: {r3.area}\")\n",
    "print(f\"r4 area: {r4.area}\")\n",
    "\n",
    "# r3 < r4 - should be True\n",
    "print(f\"r3 < r4: {r3<r4}\")\n",
    "# should be False\n",
    "print(f\"r3 >= r4: {r3 >= r4}\")"
   ]
  },
  {
   "cell_type": "markdown",
   "id": "75e5299f",
   "metadata": {},
   "source": [
    "Testing == based on form"
   ]
  },
  {
   "cell_type": "code",
   "execution_count": 67,
   "id": "611b6353",
   "metadata": {},
   "outputs": [
    {
     "name": "stdout",
     "output_type": "stream",
     "text": [
      "r5 == r6: True\n",
      "r5 == r7: True\n"
     ]
    },
    {
     "data": {
      "text/plain": [
       "(10, 2)"
      ]
     },
     "execution_count": 67,
     "metadata": {},
     "output_type": "execute_result"
    }
   ],
   "source": [
    "# area = 20\n",
    "r5 = Rectangle(x=10, y=10, length=4, width=5)\n",
    "\n",
    "# area = 20 (same form as above)\n",
    "r6 = Rectangle(20, 20, 5, 4)\n",
    "\n",
    "# area = 20, different form\n",
    "r7 = Rectangle(30, 30, 2, 10)\n",
    "\n",
    "# r5 == r6 should be True (5,4 same as 4,5)\n",
    "print(f\"r5 == r6: {r5 == r6}\")\n",
    "\n",
    "# r5 == r7 should be False (5,4 NOT sam as 2, 10)\n",
    "print(f\"r5 == r7: {r5 == r7}\")\n",
    "\n",
    "r5.width, r5.length\n",
    "r7.width, r7.length\n"
   ]
  },
  {
   "cell_type": "code",
   "execution_count": 68,
   "id": "e97f090c",
   "metadata": {},
   "outputs": [
    {
     "data": {
      "text/plain": [
       "True"
      ]
     },
     "execution_count": 68,
     "metadata": {},
     "output_type": "execute_result"
    }
   ],
   "source": [
    "r5 == r7"
   ]
  },
  {
   "cell_type": "code",
   "execution_count": null,
   "id": "91fd233f",
   "metadata": {},
   "outputs": [
    {
     "data": {
      "text/plain": [
       "True"
      ]
     },
     "execution_count": 57,
     "metadata": {},
     "output_type": "execute_result"
    }
   ],
   "source": []
  }
 ],
 "metadata": {
  "kernelspec": {
   "display_name": "LAB_2",
   "language": "python",
   "name": "python3"
  },
  "language_info": {
   "codemirror_mode": {
    "name": "ipython",
    "version": 3
   },
   "file_extension": ".py",
   "mimetype": "text/x-python",
   "name": "python",
   "nbconvert_exporter": "python",
   "pygments_lexer": "ipython3",
   "version": "3.12.10"
  }
 },
 "nbformat": 4,
 "nbformat_minor": 5
}
