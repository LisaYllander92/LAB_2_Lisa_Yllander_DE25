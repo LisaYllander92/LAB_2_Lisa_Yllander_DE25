{
 "cells": [
  {
   "cell_type": "markdown",
   "id": "1f4eacb1",
   "metadata": {},
   "source": [
    "## Manual testing class Circle"
   ]
  },
  {
   "cell_type": "code",
   "execution_count": null,
   "id": "4d579f6d",
   "metadata": {},
   "outputs": [
    {
     "data": {
      "text/plain": [
       "<bound method Circle.is_unit_circle of Circle: x: -1, y: 8 and radius: 6>"
      ]
     },
     "execution_count": 16,
     "metadata": {},
     "output_type": "execute_result"
    }
   ],
   "source": [
    "from circle import Circle\n",
    "\n",
    "c1 = Circle(5,-5,5)\n",
    "c1\n",
    "\n",
    "c2 = Circle(-1, 8, 6)\n",
    "c2.area\n",
    "\n",
    "c2.x\n",
    "c2.y"
   ]
  },
  {
   "cell_type": "code",
   "execution_count": null,
   "id": "e6a77e84",
   "metadata": {},
   "outputs": [
    {
     "name": "stdout",
     "output_type": "stream",
     "text": [
      "False\n"
     ]
    }
   ],
   "source": [
    "c3 = Circle(x=4, y=-2, radius=5)\n",
    "c3\n",
    "c3.area\n",
    "\n",
    "print(c3.is_unit_circle())\n"
   ]
  },
  {
   "cell_type": "code",
   "execution_count": 30,
   "id": "a5e40677",
   "metadata": {},
   "outputs": [
    {
     "name": "stdout",
     "output_type": "stream",
     "text": [
      "True\n",
      "The circle at (0, 0) with radius: 1 \n",
      "has the area of:3.14\n"
     ]
    },
    {
     "ename": "TypeError",
     "evalue": "__str__ returned non-string (type NoneType)",
     "output_type": "error",
     "traceback": [
      "\u001b[31m---------------------------------------------------------------------------\u001b[39m",
      "\u001b[31mTypeError\u001b[39m                                 Traceback (most recent call last)",
      "\u001b[36mCell\u001b[39m\u001b[36m \u001b[39m\u001b[32mIn[30]\u001b[39m\u001b[32m, line 4\u001b[39m\n\u001b[32m      1\u001b[39m c4 = Circle(\u001b[32m0\u001b[39m,\u001b[32m0\u001b[39m,\u001b[32m1\u001b[39m)\n\u001b[32m      2\u001b[39m \u001b[38;5;28mprint\u001b[39m(c4.is_unit_circle())\n\u001b[32m----> \u001b[39m\u001b[32m4\u001b[39m \u001b[38;5;28;43mprint\u001b[39;49m\u001b[43m(\u001b[49m\u001b[43mc4\u001b[49m\u001b[43m)\u001b[49m\n",
      "\u001b[31mTypeError\u001b[39m: __str__ returned non-string (type NoneType)"
     ]
    }
   ],
   "source": [
    "c4 = Circle(0,0,1)\n",
    "print(c4.is_unit_circle())\n",
    "\n",
    "print(c4)"
   ]
  }
 ],
 "metadata": {
  "kernelspec": {
   "display_name": "LAB_2",
   "language": "python",
   "name": "python3"
  },
  "language_info": {
   "codemirror_mode": {
    "name": "ipython",
    "version": 3
   },
   "file_extension": ".py",
   "mimetype": "text/x-python",
   "name": "python",
   "nbconvert_exporter": "python",
   "pygments_lexer": "ipython3",
   "version": "3.12.10"
  }
 },
 "nbformat": 4,
 "nbformat_minor": 5
}
